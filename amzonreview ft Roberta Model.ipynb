{
 "cells": [
  {
   "cell_type": "code",
   "execution_count": 24,
   "id": "66de716a",
   "metadata": {},
   "outputs": [],
   "source": [
    "import pandas as pd\n",
    "from sklearn.model_selection import train_test_split\n",
    "from transformers import RobertaTokenizer, RobertaForSequenceClassification\n",
    "from transformers import Trainer, TrainingArguments\n",
    "import torch\n",
    "\n"
   ]
  },
  {
   "cell_type": "code",
   "execution_count": 25,
   "id": "92428049",
   "metadata": {},
   "outputs": [],
   "source": [
    "import torch\n",
    "\n"
   ]
  },
  {
   "cell_type": "code",
   "execution_count": 26,
   "id": "80d11730",
   "metadata": {},
   "outputs": [],
   "source": [
    "#file path\n",
    "file_path = 'test.ft.txt'\n",
    "\n"
   ]
  },
  {
   "cell_type": "code",
   "execution_count": 27,
   "id": "1ed39cef",
   "metadata": {},
   "outputs": [
    {
     "name": "stdout",
     "output_type": "stream",
     "text": [
      "   label                                               text\n",
      "0      2  Great CD: My lovely Pat has one of the GREAT v...\n",
      "1      2  One of the best game music soundtracks - for a...\n",
      "2      1  Batteries died within a year ...: I bought thi...\n",
      "3      2  works fine, but Maha Energy is better: Check o...\n",
      "4      2  Great for the non-audiophile: Reviewed quite a...\n"
     ]
    }
   ],
   "source": [
    "# Read the file line by line\n",
    "with open(file_path, 'r', encoding='utf-8') as file:\n",
    "    for line in file:\n",
    "        # Split each line by space and extract label and text\n",
    "        label = int(line.split()[0].replace('__label__', ''))\n",
    "        text = ' '.join(line.split()[1:])\n",
    "        labels.append(label)\n",
    "        texts.append(text)\n",
    "\n",
    "# Convert to DataFrame for easier manipulation\n",
    "df = pd.DataFrame({\n",
    "    'label': labels,\n",
    "    'text': texts\n",
    "})\n",
    "\n",
    "# Check the first few rows\n",
    "print(df.head())"
   ]
  },
  {
   "cell_type": "code",
   "execution_count": 23,
   "id": "4d1f594f",
   "metadata": {},
   "outputs": [
    {
     "name": "stdout",
     "output_type": "stream",
     "text": [
      "   label                                               text\n",
      "0      2  Great CD: My lovely Pat has one of the GREAT v...\n",
      "1      2  One of the best game music soundtracks - for a...\n",
      "2      1  Batteries died within a year ...: I bought thi...\n",
      "3      2  works fine, but Maha Energy is better: Check o...\n",
      "4      2  Great for the non-audiophile: Reviewed quite a...\n"
     ]
    }
   ],
   "source": [
    "#train file path\n",
    "file_pathtrain = 'train.ft.txt'\n",
    "\n",
    "# Read the file line by line\n",
    "with open(file_pathtrain, 'r', encoding='utf-8') as file:\n",
    "    for line in file:\n",
    "        # Split each line by space and extract label and text\n",
    "        label = int(line.split()[0].replace('__label__', ''))\n",
    "        text = ' '.join(line.split()[1:])\n",
    "        labels.append(label)\n",
    "        texts.append(text)\n",
    "\n",
    "# Convert to DataFrame for easier manipulation\n",
    "dftrain = pd.DataFrame({\n",
    "    'label': labels,\n",
    "    'text': texts\n",
    "})\n",
    "\n",
    "# Check the first few rows\n",
    "print(dftrain.head())\n"
   ]
  },
  {
   "cell_type": "code",
   "execution_count": 28,
   "id": "f8617fe9",
   "metadata": {},
   "outputs": [],
   "source": [
    "# Preprocess the data\n",
    "df['label'] = df['label'].map({2: 'positive', 1: 'negative'})  # Example mapping\n",
    "\n",
    "train_texts, val_texts, train_labels, val_labels = train_test_split(df['text'], df['label'], test_size=0.2)"
   ]
  },
  {
   "cell_type": "code",
   "execution_count": null,
   "id": "b93cf1e9",
   "metadata": {},
   "outputs": [
    {
     "name": "stderr",
     "output_type": "stream",
     "text": [
      "C:\\Users\\Candice\\AppData\\Roaming\\Python\\Python311\\site-packages\\transformers\\tokenization_utils_base.py:1601: FutureWarning: `clean_up_tokenization_spaces` was not set. It will be set to `True` by default. This behavior will be depracted in transformers v4.45, and will be then set to `False` by default. For more details check this issue: https://github.com/huggingface/transformers/issues/31884\n",
      "  warnings.warn(\n",
      "Some weights of RobertaForSequenceClassification were not initialized from the model checkpoint at roberta-base and are newly initialized: ['classifier.dense.bias', 'classifier.dense.weight', 'classifier.out_proj.bias', 'classifier.out_proj.weight']\n",
      "You should probably TRAIN this model on a down-stream task to be able to use it for predictions and inference.\n"
     ]
    }
   ],
   "source": [
    "\n",
    "# Preprocess the data\n",
    "df['label'] = df['label'].map({'positive': 2, 'negative': 1})  # Example mapping\n",
    "train_texts, val_texts, train_labels, val_labels = train_test_split(df['text'], df['label'], test_size=0.2)\n",
    "\n",
    "# Load the RoBERTa tokenizer and model\n",
    "\n",
    "tokenizer = RobertaTokenizer.from_pretrained('roberta-base', clean_up_tokenization_spaces=True)\n",
    "model = RobertaForSequenceClassification.from_pretrained('roberta-base', num_labels=2)\n",
    "\n",
    "# Tokenize the input texts\n",
    "train_encodings = tokenizer(train_texts.tolist(), truncation=True, padding=True)\n",
    "val_encodings = tokenizer(val_texts.tolist(), truncation=True, padding=True)\n",
    "\n",
    "# Create a dataset class\n",
    "class AmazonReviewsDataset(torch.utils.data.Dataset):\n",
    "    def __init__(self, encodings, labels):\n",
    "        self.encodings = encodings\n",
    "        self.labels = labels\n",
    "\n",
    "    def __getitem__(self, idx):\n",
    "        item = {key: torch.tensor(val[idx]) for key, val in self.encodings.items()}\n",
    "        item['labels'] = torch.tensor(self.labels[idx])\n",
    "        return item\n",
    "\n",
    "    def __len__(self):\n",
    "        return len(self.labels)\n",
    "\n",
    "# Create datasets\n",
    "train_dataset = AmazonReviewsDataset(train_encodings, train_labels.tolist())\n",
    "val_dataset = AmazonReviewsDataset(val_encodings, val_labels.tolist())\n",
    "\n",
    "# Set training arguments\n",
    "training_args = TrainingArguments(\n",
    "    output_dir='./results',\n",
    "    num_train_epochs=3,\n",
    "    per_device_train_batch_size=8,\n",
    "    per_device_eval_batch_size=8,\n",
    "    warmup_steps=500,\n",
    "    weight_decay=0.01,\n",
    "    logging_dir='./logs',\n",
    ")\n",
    "\n",
    "# Create a Trainer instance\n",
    "trainer = Trainer(\n",
    "    model=model,\n",
    "    args=training_args,\n",
    "    train_dataset=train_dataset,\n",
    "    eval_dataset=val_dataset,\n",
    ")\n",
    "\n",
    "# Train the model\n",
    "trainer.train()"
   ]
  },
  {
   "cell_type": "code",
   "execution_count": null,
   "id": "ac4a34f0",
   "metadata": {},
   "outputs": [],
   "source": [
    "from sklearn.metrics import accuracy_score, precision_recall_fscore_support\n",
    "\n",
    "# Define the compute metrics function\n",
    "def compute_metrics(p):\n",
    "    preds = p.predictions.argmax(-1)  # Get the predicted class by taking the argmax of logits\n",
    "    labels = p.label_ids  # Ground truth labels\n",
    "    precision, recall, f1, _ = precision_recall_fscore_support(labels, preds, average='binary')\n",
    "    accuracy = accuracy_score(labels, preds)\n",
    "    return {\n",
    "        'accuracy': accuracy,\n",
    "        'precision': precision,\n",
    "        'recall': recall,\n",
    "        'f1': f1,\n",
    "    }\n",
    "\n",
    "# Update the Trainer with the compute_metrics function\n",
    "trainer = Trainer(\n",
    "    model=model,\n",
    "    args=training_args,\n",
    "    train_dataset=train_dataset,\n",
    "    eval_dataset=val_dataset,\n",
    "    compute_metrics=compute_metrics  # Add this line for evaluation metrics\n",
    ")\n",
    "\n",
    "# Evaluate the model\n",
    "evaluation_results = trainer.evaluate()\n",
    "\n",
    "# Print evaluation results\n",
    "print(evaluation_results)"
   ]
  },
  {
   "cell_type": "code",
   "execution_count": null,
   "id": "e5f41dfd",
   "metadata": {},
   "outputs": [],
   "source": []
  }
 ],
 "metadata": {
  "kernelspec": {
   "display_name": "Python 3 (ipykernel)",
   "language": "python",
   "name": "python3"
  },
  "language_info": {
   "codemirror_mode": {
    "name": "ipython",
    "version": 3
   },
   "file_extension": ".py",
   "mimetype": "text/x-python",
   "name": "python",
   "nbconvert_exporter": "python",
   "pygments_lexer": "ipython3",
   "version": "3.11.5"
  }
 },
 "nbformat": 4,
 "nbformat_minor": 5
}
